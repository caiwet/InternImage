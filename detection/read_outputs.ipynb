{
 "cells": [
  {
   "cell_type": "code",
   "execution_count": 1,
   "metadata": {},
   "outputs": [],
   "source": [
    "import json\n",
    "import numpy as np\n",
    "import pandas as pd\n",
    "import math\n",
    "from tabulate import tabulate\n",
    "from compute_tools import *\n",
    "from view_tools import *"
   ]
  },
  {
   "attachments": {},
   "cell_type": "markdown",
   "metadata": {},
   "source": [
    "### Get Groundtruth Labels\n",
    "Skip if not generating for the first time."
   ]
  },
  {
   "cell_type": "code",
   "execution_count": 2,
   "metadata": {},
   "outputs": [],
   "source": [
    "# gt_file='/home/ec2-user/segmenter/ETTDATA/Test/downsized/MIMIC/annotations/test_annotations_enl5.json'\n",
    "# with open(gt_file) as f:\n",
    "#     gt_data = json.load(f)\n",
    "\n",
    "# gt_labels = []\n",
    "# for anno in gt_data['annotations']:\n",
    "#     bbox = anno['bbox']\n",
    "#     x = bbox[0] + bbox[2] / 2\n",
    "#     y = bbox[1] + bbox[3] / 2\n",
    "#     gt_labels.append([anno['image_id'], anno['category_id'], x, y])\n",
    "# gt_df = pd.DataFrame(gt_labels, columns=['image_id', 'category_id', 'x', 'y'])\n",
    "# gt_df.to_csv(\"labels/gt_labels_mimic.csv\", index=False)    \n",
    "\n",
    "gt_file='/home/ec2-user/segmenter/ETTDATA/train_mimic_only/annotations/val_annotations_enl5.json'\n",
    "with open(gt_file) as f:\n",
    "    gt_data = json.load(f)\n",
    "\n",
    "gt_labels = []\n",
    "for anno in gt_data['annotations']:\n",
    "    bbox = anno['bbox']\n",
    "    x = bbox[0] + bbox[2] / 2\n",
    "    y = bbox[1] + bbox[3] / 2\n",
    "    gt_labels.append([anno['image_id'], anno['category_id'], x, y])\n",
    "gt_df = pd.DataFrame(gt_labels, columns=['image_id', 'category_id', 'x', 'y'])\n",
    "gt_df.to_csv(\"labels/gt_labels_mimic_only_val.csv\", index=False)   "
   ]
  },
  {
   "attachments": {},
   "cell_type": "markdown",
   "metadata": {},
   "source": [
    "### Get Predicted Labels"
   ]
  },
  {
   "cell_type": "code",
   "execution_count": 2,
   "metadata": {},
   "outputs": [],
   "source": [
    "def get_max_pred_bbox(pred_file='mask_rcnn_test-dev_results.bbox.json'):\n",
    "    with open(pred_file) as f:\n",
    "        data = json.load(f)\n",
    "        max_score = {}\n",
    "        for pred in data:\n",
    "            key = (pred['image_id'], pred['category_id'])\n",
    "            if key not in max_score.keys():\n",
    "                max_score[key] = [pred]\n",
    "            elif pred['category_id'] == 3046 or pred['category_id'] == 3047:\n",
    "                if pred['score'] > max_score[key][0]['score']:\n",
    "                    max_score[key] = [pred]\n",
    "            # elif pred['category_id'] == 3048:\n",
    "            #     curr = max_score[key]\n",
    "            #     if len(curr) < 2:\n",
    "            #         curr.append(pred)\n",
    "            #     elif pred['score'] > min(curr[0]['score'], curr[1]['score']):\n",
    "            #             if curr[0]['score'] < curr[1]['score']:\n",
    "            #                 curr[0] = pred\n",
    "            #             else:\n",
    "            #                 curr[1] = pred\n",
    "    return max_score"
   ]
  },
  {
   "cell_type": "code",
   "execution_count": 3,
   "metadata": {},
   "outputs": [],
   "source": [
    "def get_labels(max_score, thres=0.3):\n",
    "    pred_labels = []\n",
    "    for item in max_score:\n",
    "        item=item[0]\n",
    "        if item['score'] > thres:\n",
    "            x = item['bbox'][0] + item['bbox'][2]/2\n",
    "            y = item['bbox'][1] + item['bbox'][3]/2\n",
    "            pred_labels.append([item['image_id'], item['category_id'], x, y])\n",
    "    pred_labels = pd.DataFrame(data=pred_labels, columns=[\"image_id\", \"category_id\", \"x\", \"y\"])\n",
    "    return pred_labels"
   ]
  },
  {
   "cell_type": "code",
   "execution_count": 5,
   "metadata": {},
   "outputs": [],
   "source": [
    "# Test model with gloria added\n",
    "pred_file='/home/ec2-user/segmenter/InternImage/detection/test_results_gloria/test_gloria_mimic.bbox.json'\n",
    "max_score = get_max_pred_bbox_3cls(pred_file)\n",
    "max_score = list(max_score.values())\n",
    "pred_mimic = get_labels(max_score, thres=0.3)\n",
    "pred_mimic.to_csv(\"test_results_gloria/pred_labels_mimic.csv\", index=False)\n",
    "\n",
    "pred_file='/home/ec2-user/segmenter/InternImage/detection/test_results_gloria/test_gloria_ranzcr.bbox.json'\n",
    "max_score = get_max_pred_bbox_3cls(pred_file)\n",
    "max_score = list(max_score.values())\n",
    "pred_mimic = get_labels(max_score, thres=0.3)\n",
    "pred_mimic.to_csv(\"test_results_gloria/pred_labels_ranzcr.csv\", index=False)"
   ]
  },
  {
   "cell_type": "code",
   "execution_count": 36,
   "metadata": {},
   "outputs": [],
   "source": [
    "pred_file='/home/ec2-user/segmenter/InternImage/detection/test_results/mimic-only-mimic.bbox.json'\n",
    "max_score = get_max_pred_bbox_3cls(pred_file)\n",
    "max_score = list(max_score.values())\n",
    "pred_mimic = get_labels(max_score, thres=0.3)\n",
    "pred_mimic.to_csv(\"labels/train_mimic_only/pred_labels_mimic.csv\", index=False)\n",
    "\n",
    "pred_file='/home/ec2-user/segmenter/InternImage/detection/test_results/sampled-data-mimic.bbox.json'\n",
    "max_score = get_max_pred_bbox_3cls(pred_file)\n",
    "max_score = list(max_score.values())\n",
    "pred_mimic = get_labels(max_score, thres=0.3)\n",
    "pred_mimic.to_csv(\"labels/sampled_data_split/pred_labels_mimic.csv\", index=False)\n",
    "\n",
    "pred_file='/home/ec2-user/segmenter/InternImage/detection/test_results/all-data-mimic.bbox.json'\n",
    "max_score = get_max_pred_bbox_3cls(pred_file)\n",
    "max_score = list(max_score.values())\n",
    "pred_mimic = get_labels(max_score, thres=0.3)\n",
    "pred_mimic.to_csv(\"labels/all_data_split/pred_labels_mimic.csv\", index=False)"
   ]
  },
  {
   "cell_type": "code",
   "execution_count": 35,
   "metadata": {},
   "outputs": [],
   "source": [
    "pred_file='/home/ec2-user/segmenter/InternImage/detection/test_results/mimic-only-ranzcr.bbox.json'\n",
    "max_score = get_max_pred_bbox_3cls(pred_file)\n",
    "max_score = list(max_score.values())\n",
    "pred_ranzcr = get_labels(max_score, thres=0.3)\n",
    "pred_ranzcr.to_csv(\"labels/train_mimic_only/pred_labels_ranzcr.csv\", index=False)\n",
    "\n",
    "pred_file='/home/ec2-user/segmenter/InternImage/detection/test_results/sampled-data-ranzcr.bbox.json'\n",
    "max_score = get_max_pred_bbox_3cls(pred_file)\n",
    "max_score = list(max_score.values())\n",
    "pred_ranzcr = get_labels(max_score, thres=0.3)\n",
    "pred_ranzcr.to_csv(\"labels/sampled_data_split/pred_labels_ranzcr.csv\", index=False)\n",
    "\n",
    "pred_file='/home/ec2-user/segmenter/InternImage/detection/test_results/all-data-ranzcr.bbox.json'\n",
    "max_score = get_max_pred_bbox_3cls(pred_file)\n",
    "max_score = list(max_score.values())\n",
    "pred_ranzcr = get_labels(max_score, thres=0.3)\n",
    "pred_ranzcr.to_csv(\"labels/all_data_split/pred_labels_ranzcr.csv\", index=False)"
   ]
  },
  {
   "attachments": {},
   "cell_type": "markdown",
   "metadata": {},
   "source": [
    "## Evaluate"
   ]
  },
  {
   "cell_type": "code",
   "execution_count": 2,
   "metadata": {},
   "outputs": [],
   "source": [
    "import sys\n",
    "sys.path.append('../../ETT_Evaluation')\n",
    "from eval.eval import ETTEvaler"
   ]
  },
  {
   "cell_type": "code",
   "execution_count": 3,
   "metadata": {},
   "outputs": [
    {
     "name": "stdout",
     "output_type": "stream",
     "text": [
      "0.24919229649067381\n",
      "**************************************\n",
      "Max tip distance:  1.8605420895026148\n",
      "Min tip distance:  0.008596945668709926\n",
      "Mean tip distance:  0.24919229649067381\n",
      "Std tip distance:  0.24259930473307217\n",
      "Median tip distance:  0.17964727836622438\n",
      "**************************************\n",
      "Precision:  0.9941860465116279\n",
      "Recall:  0.501466275659824\n",
      "Sensitivity:  0.501466275659824\n",
      "Specificity:  0.95\n",
      "F1 score:  0.6666666666666666\n",
      "+--------+-------+----------+\n",
      "|        |   tip |   No tip |\n",
      "+========+=======+==========+\n",
      "| tip    |   171 |        1 |\n",
      "+--------+-------+----------+\n",
      "| No tip |   170 |       19 |\n",
      "+--------+-------+----------+\n",
      "[0.21019308 0.28507976]\n"
     ]
    }
   ],
   "source": [
    "# Test model with gloria added\n",
    "evaler = ETTEvaler(\"labels/gt_labels_mimic.csv\", \"test_results_gloria/pred_labels_mimic.csv\", 1280)\n",
    "\n",
    "tp, fp, tn, fn, distances = evaler.gt_pred_distance(target='tip')\n",
    "print(np.mean(distances))\n",
    "evaler.get_metrics(tp, fp, tn, fn, distances, cat='tip')\n",
    "\n",
    "np.random.seed(102)\n",
    "B = 100\n",
    "mean_tip_dis = []\n",
    "tip_carina_mean_err = []\n",
    "for i in range(B):\n",
    "    random_idx = np.random.randint(0, len(distances), len(distances))\n",
    "    boot_dis = [distances[i] for i in random_idx]\n",
    "    mean_tip_dis.append(np.mean(boot_dis))\n",
    "mean_tip_ci = np.percentile(mean_tip_dis, [2.5, 97.5])\n",
    "print(mean_tip_ci)"
   ]
  },
  {
   "cell_type": "code",
   "execution_count": 4,
   "metadata": {},
   "outputs": [
    {
     "data": {
      "text/plain": [
       "(array([94., 34., 32.,  7.,  1.,  0.,  1.,  1.,  0.,  1.]),\n",
       " array([0.00859695, 0.19379146, 0.37898597, 0.56418049, 0.749375  ,\n",
       "        0.93456952, 1.11976403, 1.30495855, 1.49015306, 1.67534758,\n",
       "        1.86054209]),\n",
       " <BarContainer object of 10 artists>)"
      ]
     },
     "execution_count": 4,
     "metadata": {},
     "output_type": "execute_result"
    },
    {
     "data": {
      "image/png": "[encoded data removed]",
      "text/plain": [
       "<Figure size 640x480 with 1 Axes>"
      ]
     },
     "metadata": {},
     "output_type": "display_data"
    }
   ],
   "source": [
    "plt.hist(distances)"
   ]
  },
  {
   "cell_type": "code",
   "execution_count": 14,
   "metadata": {},
   "outputs": [
    {
     "name": "stdout",
     "output_type": "stream",
     "text": [
      "0.3202482191074174\n",
      "**************************************\n",
      "Max tip distance:  2.3935765947061443\n",
      "Min tip distance:  0.01438510879213134\n",
      "Mean tip distance:  0.3202482191074174\n",
      "Std tip distance:  0.4410320301196825\n",
      "Median tip distance:  0.19213109596308725\n",
      "**************************************\n",
      "Precision:  1.0\n",
      "Recall:  0.6608695652173913\n",
      "Sensitivity:  0.6608695652173913\n",
      "Specificity:  1.0\n",
      "F1 score:  0.7958115183246073\n",
      "+--------+-------+----------+\n",
      "|        |   tip |   No tip |\n",
      "+========+=======+==========+\n",
      "| tip    |    76 |        0 |\n",
      "+--------+-------+----------+\n",
      "| No tip |    39 |       23 |\n",
      "+--------+-------+----------+\n",
      "[0.19346085 0.55961747]\n"
     ]
    }
   ],
   "source": [
    "# evaler = ETTEvaler(\"labels/gt_labels_mimic.csv\", \"labels/all_data_split/pred_labels_mimic.csv\", 1280)\n",
    "# evaler = ETTEvaler(\"labels/gt_labels_ranzcr.csv\", \"labels/all_data_split/pred_labels_ranzcr.csv\", 1280)\n",
    "# evaler = ETTEvaler(\"labels/gt_labels_mimic.csv\", \"labels/sampled_data_split/pred_labels_mimic.csv\", 1280)\n",
    "# evaler = ETTEvaler(\"labels/gt_labels_ranzcr.csv\", \"labels/sampled_data_split/pred_labels_ranzcr.csv\", 1280)\n",
    "# evaler = ETTEvaler(\"labels/gt_labels_mimic.csv\", \"labels/train_mimic_only/pred_labels_mimic.csv\", 1280)\n",
    "# evaler = ETTEvaler(\"labels/gt_labels_ranzcr.csv\", \"labels/train_mimic_only/pred_labels_ranzcr.csv\", 1280)\n",
    "\n",
    "tp, fp, tn, fn, distances_all = evaler.gt_pred_distance(target='tip')\n",
    "print(np.mean(distances))\n",
    "evaler.get_metrics(tp, fp, tn, fn, distances, cat='tip')\n",
    "\n",
    "np.random.seed(102)\n",
    "B = 100\n",
    "mean_tip_dis = []\n",
    "tip_carina_mean_err = []\n",
    "for i in range(B):\n",
    "    random_idx = np.random.randint(0, len(distances), len(distances))\n",
    "    boot_dis = [distances[i] for i in random_idx]\n",
    "    mean_tip_dis.append(np.mean(boot_dis))\n",
    "mean_tip_ci = np.percentile(mean_tip_dis, [2.5, 97.5])\n",
    "print(mean_tip_ci)"
   ]
  },
  {
   "cell_type": "code",
   "execution_count": 24,
   "metadata": {},
   "outputs": [
    {
     "data": {
      "text/plain": [
       "Text(4, 30, 'number of tp = 29')"
      ]
     },
     "execution_count": 24,
     "metadata": {},
     "output_type": "execute_result"
    },
    {
     "data": {
      "image/png": "[encoded data removed]",
      "text/plain": [
       "<Figure size 1800x500 with 3 Axes>"
      ]
     },
     "metadata": {},
     "output_type": "display_data"
    }
   ],
   "source": [
    "from matplotlib import pyplot as plt\n",
    "fig, axes = plt.subplots(1, 3, figsize=[18, 5])\n",
    "\n",
    "axes[0].hist(distances_all)\n",
    "axes[0].vlines(np.median(distances_all), ymin=0, ymax=60, label='median', color='red')\n",
    "axes[0].vlines(np.mean(distances_all), ymin=0, ymax=60, label='mean', color='black')\n",
    "axes[0].set_title(\"ALL MIMIC + RANZCR\")\n",
    "axes[0].set_xlim(0, 7)\n",
    "axes[0].set_ylim(0, 75)\n",
    "axes[0].set_xlabel(\"Tip Prediction Error\")\n",
    "axes[0].legend()\n",
    "axes[0].text(4, 30, f'number of tp = {len(distances_all)}')\n",
    "\n",
    "\n",
    "axes[1].hist(distances_sub)\n",
    "axes[1].vlines(np.median(distances_sub), ymin=0, ymax=60, label='median', color='red')\n",
    "axes[1].vlines(np.mean(distances_sub), ymin=0, ymax=60, label='mean', color='black')\n",
    "axes[1].set_title(\"MIMIC + RANZCR subsample\")\n",
    "axes[1].set_xlim(0, 7)\n",
    "axes[1].set_ylim(0, 75)\n",
    "axes[1].set_xlabel(\"Tip Prediction Error\")\n",
    "axes[1].legend()\n",
    "axes[1].text(4, 30, f'number of tp = {len(distances_sub)}')\n",
    "\n",
    "axes[2].hist(distances)\n",
    "axes[2].vlines(np.median(distances), ymin=0, ymax=60, label='median', color='red')\n",
    "axes[2].vlines(np.mean(distances), ymin=0, ymax=60, label='mean', color='black')\n",
    "axes[2].set_title(\"Train on MIMIC Only\")\n",
    "axes[2].set_xlim(0, 7)\n",
    "axes[2].set_ylim(0, 75)\n",
    "axes[2].set_xlabel(\"Tip Prediction Error\")\n",
    "axes[2].legend()\n",
    "\n",
    "axes[2].text(4, 30, f'number of tp = {len(distances)}')"
   ]
  },
  {
   "cell_type": "code",
   "execution_count": 59,
   "metadata": {},
   "outputs": [
    {
     "name": "stdout",
     "output_type": "stream",
     "text": [
      "Processing groundtruth label...\n",
      "Tip not exist for image  4425991\n",
      "Tip not exist for image  4425993\n",
      "Tip not exist for image  4426004\n",
      "Tip not exist for image  4426032\n",
      "Tip not exist for image  4426049\n",
      "Tip not exist for image  4426081\n",
      "Tip not exist for image  4426112\n",
      "Tip not exist for image  4426173\n",
      "Tip not exist for image  4426183\n",
      "Tip not exist for image  4426195\n",
      "Tip not exist for image  4426251\n",
      "Tip not exist for image  4426254\n",
      "Tip not exist for image  4426280\n",
      "Tip not exist for image  4426303\n",
      "Tip not exist for image  4426344\n",
      "Tip not exist for image  4426353\n",
      "Tip not exist for image  4426392\n",
      "Tip not exist for image  4426418\n",
      "Tip not exist for image  4426419\n",
      "Tip not exist for image  4426420\n",
      "Tip not exist for image  4426421\n",
      "Tip not exist for image  4426422\n",
      "Tip not exist for image  4426423\n",
      "Tip not exist for image  4426424\n",
      "Tip not exist for image  4426425\n",
      "Tip not exist for image  4426426\n",
      "Tip not exist for image  4426427\n",
      "Tip not exist for image  4426428\n",
      "Tip not exist for image  4426429\n",
      "Tip not exist for image  4426430\n",
      "Tip not exist for image  4426431\n",
      "Tip not exist for image  4426432\n",
      "Tip not exist for image  4426433\n",
      "Tip not exist for image  4426434\n",
      "Tip not exist for image  4426435\n",
      "Tip not exist for image  4426436\n",
      "Tip not exist for image  4426437\n",
      "Tip not exist for image  4426438\n",
      "Tip not exist for image  4426439\n",
      "Tip not exist for image  4426440\n",
      "Tip not exist for image  4426441\n",
      "Tip not exist for image  4426442\n",
      "Tip not exist for image  4426443\n",
      "Tip not exist for image  4426444\n",
      "Tip not exist for image  4426446\n",
      "Tip not exist for image  4426447\n",
      "Tip not exist for image  4426448\n",
      "Tip not exist for image  4426449\n",
      "Tip not exist for image  4426450\n",
      "Tip not exist for image  4426451\n",
      "Tip not exist for image  4426452\n",
      "Tip not exist for image  4426453\n",
      "Tip not exist for image  4426454\n",
      "Tip not exist for image  4426455\n",
      "Tip not exist for image  4426456\n",
      "Tip not exist for image  4426457\n",
      "Tip not exist for image  4426458\n",
      "Tip not exist for image  4426459\n",
      "Tip not exist for image  4426460\n",
      "Tip not exist for image  4426461\n",
      "Tip not exist for image  4426462\n",
      "Tip not exist for image  4426463\n",
      "Tip not exist for image  4426464\n",
      "Tip not exist for image  4426465\n",
      "Tip not exist for image  4426466\n",
      "Tip not exist for image  4426467\n",
      "Tip not exist for image  4426468\n",
      "Tip not exist for image  4426469\n",
      "Tip not exist for image  4426470\n",
      "Tip not exist for image  4426471\n",
      "Tip not exist for image  4426472\n",
      "Tip not exist for image  4426473\n",
      "Tip not exist for image  4426474\n",
      "Tip not exist for image  4426475\n",
      "Tip not exist for image  4426476\n",
      "Tip not exist for image  4426477\n",
      "Tip not exist for image  4426478\n",
      "Tip not exist for image  4426479\n",
      "Tip not exist for image  4426480\n",
      "Tip not exist for image  4426481\n",
      "Tip not exist for image  4426482\n",
      "Tip not exist for image  4426483\n",
      "Tip not exist for image  4426484\n",
      "Tip not exist for image  4426485\n",
      "Tip not exist for image  4426486\n",
      "Tip not exist for image  4426487\n",
      "Tip not exist for image  4426488\n",
      "Tip not exist for image  4426489\n",
      "Tip not exist for image  4426490\n",
      "Tip not exist for image  4426491\n",
      "Tip not exist for image  4426492\n",
      "Tip not exist for image  4426493\n",
      "Tip not exist for image  4426494\n",
      "Tip not exist for image  4426495\n",
      "Tip not exist for image  4426496\n",
      "Tip not exist for image  4426497\n",
      "Tip not exist for image  4426498\n",
      "Tip not exist for image  4426499\n",
      "Tip not exist for image  4426500\n",
      "Tip not exist for image  4426501\n",
      "Tip not exist for image  4426502\n",
      "Tip not exist for image  4426503\n",
      "Tip not exist for image  4426504\n",
      "Tip not exist for image  4426505\n",
      "Tip not exist for image  4426506\n",
      "Tip not exist for image  4426507\n",
      "Tip not exist for image  4426508\n",
      "Tip not exist for image  4426509\n",
      "Tip not exist for image  4426510\n",
      "Tip not exist for image  4426511\n",
      "Tip not exist for image  4426512\n",
      "Tip not exist for image  4426513\n",
      "Tip not exist for image  4426514\n",
      "Tip not exist for image  4426515\n",
      "Tip not exist for image  4426516\n",
      "Tip not exist for image  4426517\n",
      "Tip not exist for image  4426520\n",
      "Tip not exist for image  4426524\n",
      "Tip not exist for image  4426533\n",
      "Tip not exist for image  4426534\n",
      "Tip not exist for image  4426540\n",
      "Tip not exist for image  4426543\n",
      "Tip not exist for image  4426547\n",
      "Tip not exist for image  4426548\n",
      "Tip not exist for image  4426551\n",
      "Tip not exist for image  4426565\n",
      "Tip not exist for image  4426578\n",
      "Tip not exist for image  4426595\n",
      "Tip not exist for image  4426603\n",
      "Tip not exist for image  4426619\n",
      "Tip not exist for image  4426645\n",
      "Tip not exist for image  4426653\n",
      "Tip not exist for image  4426666\n",
      "Tip not exist for image  4426671\n",
      "Tip not exist for image  4426673\n",
      "Tip not exist for image  4426679\n",
      "Tip not exist for image  4426680\n",
      "Tip not exist for image  4426693\n",
      "Tip not exist for image  4426700\n",
      "Tip not exist for image  4426705\n",
      "Tip not exist for image  4426706\n",
      "Tip not exist for image  4426712\n",
      "Tip not exist for image  4426715\n",
      "Tip not exist for image  4426716\n",
      "Tip not exist for image  4426717\n",
      "Tip not exist for image  4426721\n",
      "Tip not exist for image  4426732\n",
      "Tip not exist for image  4426733\n",
      "Tip not exist for image  4426742\n",
      "Tip not exist for image  4426752\n",
      "Tip not exist for image  4426760\n",
      "Tip not exist for image  4426767\n",
      "Tip not exist for image  4426777\n",
      "Tip not exist for image  4426795\n",
      "Tip not exist for image  4426797\n",
      "Tip not exist for image  4426799\n",
      "Tip not exist for image  4426801\n",
      "Tip not exist for image  4426808\n",
      "Tip not exist for image  4426813\n",
      "Tip not exist for image  4426821\n",
      "Tip not exist for image  4426825\n",
      "Tip not exist for image  4426834\n",
      "Tip not exist for image  4426844\n",
      "Tip not exist for image  4426851\n",
      "Tip not exist for image  4426866\n",
      "Tip not exist for image  4426868\n",
      "Tip not exist for image  4426880\n",
      "Tip not exist for image  4426885\n",
      "Tip not exist for image  4426888\n",
      "Tip not exist for image  4426894\n",
      "Tip not exist for image  4426900\n",
      "Tip not exist for image  4426907\n",
      "Tip not exist for image  4426911\n",
      "Processing predicted label...\n",
      "Tip not exist for image  4426050\n",
      "Tip not exist for image  4426085\n",
      "Tip not exist for image  4425987\n",
      "Tip not exist for image  4425986\n",
      "Tip not exist for image  4425991\n",
      "Carina not exist for image  4425988\n",
      "Carina not exist for image  4426011\n",
      "Tip not exist for image  4426044\n",
      "Tip not exist for image  4426179\n",
      "Tip not exist for image  4426186\n",
      "Tip not exist for image  4426201\n",
      "Tip not exist for image  4426118\n",
      "Tip not exist for image  4426145\n",
      "Tip not exist for image  4426149\n",
      "Tip not exist for image  4426159\n",
      "Tip not exist for image  4426165\n",
      "Tip not exist for image  4426329\n",
      "Tip not exist for image  4426328\n",
      "Tip not exist for image  4426361\n",
      "Tip not exist for image  4426254\n",
      "Tip not exist for image  4426256\n",
      "Tip not exist for image  4426261\n",
      "Tip not exist for image  4426272\n",
      "Tip not exist for image  4426295\n",
      "Tip not exist for image  4426432\n",
      "Tip not exist for image  4426438\n",
      "Tip not exist for image  4426443\n",
      "Tip not exist for image  4426469\n",
      "Tip not exist for image  4426483\n",
      "Tip not exist for image  4426403\n",
      "Tip not exist for image  4426412\n",
      "Tip not exist for image  4426419\n",
      "Tip not exist for image  4426418\n",
      "Tip not exist for image  4426422\n",
      "Tip not exist for image  4426427\n",
      "Tip not exist for image  4426576\n",
      "Tip not exist for image  4426607\n",
      "Tip not exist for image  4426499\n",
      "Tip not exist for image  4426496\n",
      "Tip not exist for image  4426502\n",
      "Tip not exist for image  4426505\n",
      "Tip not exist for image  4426509\n",
      "Tip not exist for image  4426517\n",
      "Tip not exist for image  4426548\n",
      "Tip not exist for image  4426557\n",
      "Tip not exist for image  4426690\n",
      "Tip not exist for image  4426693\n",
      "Tip not exist for image  4426719\n",
      "Tip not exist for image  4426724\n",
      "Tip not exist for image  4426742\n",
      "Tip not exist for image  4426679\n",
      "Tip not exist for image  4426683\n",
      "Tip not exist for image  4426682\n",
      "Tip not exist for image  4426818\n",
      "Tip not exist for image  4426820\n",
      "Tip not exist for image  4426845\n",
      "Tip not exist for image  4426870\n",
      "Tip not exist for image  4426756\n",
      "Tip not exist for image  4426765\n",
      "Tip not exist for image  4426775\n",
      "Tip not exist for image  4426774\n",
      "Tip not exist for image  4426803\n",
      "Tip not exist for image  4426811\n",
      "Tip not exist for image  4426888\n"
     ]
    }
   ],
   "source": [
    "gt_tc = evaler.tip_carina_distance(gt=True)\n",
    "pred_tc = evaler.tip_carina_distance(gt=False)"
   ]
  },
  {
   "cell_type": "code",
   "execution_count": 60,
   "metadata": {},
   "outputs": [
    {
     "data": {
      "text/plain": [
       "0.6115582390830152"
      ]
     },
     "execution_count": 60,
     "metadata": {},
     "output_type": "execute_result"
    }
   ],
   "source": [
    "evaler.mean_squared_error(gt_tc, pred_tc)"
   ]
  },
  {
   "cell_type": "code",
   "execution_count": 61,
   "metadata": {},
   "outputs": [
    {
     "data": {
      "text/plain": [
       "0.8655423503665611"
      ]
     },
     "execution_count": 61,
     "metadata": {},
     "output_type": "execute_result"
    }
   ],
   "source": [
    "evaler.calculate_r_squared(gt_tc, pred_tc)"
   ]
  },
  {
   "cell_type": "code",
   "execution_count": null,
   "metadata": {},
   "outputs": [],
   "source": []
  }
 ],
 "metadata": {
  "kernelspec": {
   "display_name": "Python 3 (ipykernel)",
   "language": "python",
   "name": "python3"
  },
  "language_info": {
   "codemirror_mode": {
    "name": "ipython",
    "version": 3
   },
   "file_extension": ".py",
   "mimetype": "text/x-python",
   "name": "python",
   "nbconvert_exporter": "python",
   "pygments_lexer": "ipython3",
   "version": "3.9.13"
  },
  "orig_nbformat": 4
 },
 "nbformat": 4,
 "nbformat_minor": 2
}
