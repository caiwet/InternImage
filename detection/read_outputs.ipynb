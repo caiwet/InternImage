{
 "cells": [
  {
   "cell_type": "code",
   "execution_count": 1,
   "metadata": {},
   "outputs": [],
   "source": [
    "import json\n",
    "import numpy as np\n",
    "import math\n",
    "from tabulate import tabulate"
   ]
  },
  {
   "cell_type": "code",
   "execution_count": 2,
   "metadata": {},
   "outputs": [],
   "source": [
    "def compute_distance(bbox1, bbox2):\n",
    "    midx1 = bbox1[0] + bbox1[2]\n",
    "    midy1 = bbox1[1] + bbox1[3]\n",
    "    midx2 = bbox2[0] + bbox2[2]\n",
    "    midy2 = bbox2[1] + bbox2[3]\n",
    "\n",
    "    # return np.linalg.norm(np.array([midx1, midy1]) - \n",
    "    #                       np.array([midx2, midy2]))\n",
    "\n",
    "    return math.dist([midx1, midy1], [midx2, midy2])\n"
   ]
  },
  {
   "cell_type": "code",
   "execution_count": 18,
   "metadata": {},
   "outputs": [],
   "source": [
    "def get_dis(gt, max_score, cls_id):\n",
    "    dis = []\n",
    "    img = set()\n",
    "    test_ids = [i['id'] for i in gt['images']]\n",
    "    # print(len(test_ids))\n",
    "    for test_id in test_ids:\n",
    "        if test_id == 4146631:\n",
    "            continue\n",
    "        if (test_id, cls_id) not in max_score.keys():\n",
    "            continue\n",
    "        for ann in gt['annotations']:\n",
    "            if ann['image_id'] == test_id and ann['category_id'] == cls_id:\n",
    "                if test_id == 2946054 and ann['id'] == 5689277: ## manually skip wrong label\n",
    "                    continue\n",
    "                if test_id in img:\n",
    "                    # print(ann)\n",
    "                    continue\n",
    "                gt_bbox = ann['bbox']\n",
    "                pd_bbox = max_score[(test_id, cls_id)][0]['bbox']\n",
    "                d = compute_distance(gt_bbox, pd_bbox)\n",
    "                dis.append(d)\n",
    "                img.add(test_id)\n",
    "                \n",
    "    return dis\n"
   ]
  },
  {
   "cell_type": "code",
   "execution_count": 69,
   "metadata": {},
   "outputs": [
    {
     "name": "stdout",
     "output_type": "stream",
     "text": [
      "{'id': 5689280, 'image_id': 2946054, 'category_id': 3048, 'job_id': 278814, 'assignee': 'linhaiht@gmail.com', 'segmentation': [], 'bbox': [498.05317408100404, 272.2052343069171, 128.03244641823193, 158.93683003642556], 'iscrowd': 0, 'area': 20349.07117552229}\n",
      "{'id': 5689279, 'image_id': 2946054, 'category_id': 3048, 'job_id': 278814, 'assignee': 'linhaiht@gmail.com', 'segmentation': [], 'bbox': [701.8804406961924, 256.89961274990964, 141.63134541682666, 183.15522332798824], 'iscrowd': 0, 'area': 25940.52070006233}\n",
      "{'id': 5689278, 'image_id': 2946054, 'category_id': 3046, 'job_id': 278814, 'assignee': 'linhaiht@gmail.com', 'segmentation': [], 'bbox': [581.9849517722287, 536.8655283695463, 100.82408098563613, 94.89325269236349], 'iscrowd': 0, 'area': 9567.52499444529}\n",
      "{'id': 5689277, 'image_id': 2946054, 'category_id': 3047, 'job_id': 278814, 'assignee': 'linhaiht@gmail.com', 'segmentation': [], 'bbox': [913.4108170042757, 299.82036254241694, 3.6182927381865087, 25.328049167302524], 'iscrowd': 0, 'area': 91.64429637448157}\n",
      "{'id': 5689276, 'image_id': 2946054, 'category_id': 3047, 'job_id': 278814, 'assignee': 'linhaiht@gmail.com', 'segmentation': [], 'bbox': [627.8199351869995, 421.43358239696056, 30.454370226847868, 27.823975135642492], 'iscrowd': 0, 'area': 847.361639963466}\n"
     ]
    }
   ],
   "source": [
    "# for ann in gt['annotations']:\n",
    "#     if ann['image_id'] == 2946054:\n",
    "#         print(ann)"
   ]
  },
  {
   "cell_type": "code",
   "execution_count": 4,
   "metadata": {},
   "outputs": [],
   "source": [
    "def get_dis_metrics(carina_dis, tip_dis, clavicles=False):\n",
    "    first = 'carina'\n",
    "    second = 'tip'\n",
    "    if clavicles:\n",
    "        first = 'left clavicle'\n",
    "        second = 'right clavicle'\n",
    "    print(f\"Max {first} distance: \", np.max(carina_dis))\n",
    "    print(f\"Min {first} distance: \", np.min(carina_dis))\n",
    "    print(f\"Mean {first} distance: \", np.mean(carina_dis))\n",
    "    print(f\"Std {first} distance: \", np.std(carina_dis))\n",
    "    print(f\"Median {first} distance: \", np.median(carina_dis))\n",
    "\n",
    "    print(f\"Max {second} distance: \", np.max(tip_dis))\n",
    "    print(f\"Min {second} distance: \", np.min(tip_dis))\n",
    "    print(f\"Mean {second} distance: \", np.mean(tip_dis))\n",
    "    print(f\"Std {second} distance: \", np.std(tip_dis))\n",
    "    print(f\"Median {second} distance: \", np.median(tip_dis))"
   ]
  },
  {
   "cell_type": "code",
   "execution_count": 5,
   "metadata": {},
   "outputs": [],
   "source": [
    "from matplotlib import pyplot as plt\n",
    "\n",
    "def plot_dis(carina_dis, tip_dis, clavicles=False):\n",
    "    first = 'Carina'\n",
    "    second = 'Tip'\n",
    "    if clavicles:\n",
    "        first = 'Left Clavicle'\n",
    "        second = 'Right Clavicle'\n",
    "\n",
    "    fig, axes = plt.subplots(1, 2, figsize=(8, 4))\n",
    "    axes[0].hist(carina_dis)\n",
    "    axes[0].set_title(f\"Distance for {first} Prediction\")\n",
    "    axes[0].set_xlabel(\"Distance in cm\")\n",
    "    axes[1].hist(tip_dis)\n",
    "    axes[1].set_title(f\"Distance for {second} Prediction\")\n",
    "    axes[1].set_xlabel(\"Distance in cm\")"
   ]
  },
  {
   "cell_type": "code",
   "execution_count": 6,
   "metadata": {},
   "outputs": [],
   "source": [
    "def get_max_pred_bbox_3cls(pred_file='mask_rcnn_test-dev_results.bbox.json'):\n",
    "    with open(pred_file) as f:\n",
    "        data = json.load(f)\n",
    "        max_score = {}\n",
    "        for pred in data:\n",
    "            key = (pred['image_id'], pred['category_id'])\n",
    "            if key not in max_score.keys():\n",
    "                max_score[key] = [pred]\n",
    "            elif pred['category_id'] == 3046 or pred['category_id'] == 3047:\n",
    "                if pred['score'] > max_score[key][0]['score']:\n",
    "                    max_score[key] = [pred]\n",
    "            elif pred['category_id'] == 3048:\n",
    "                curr = max_score[key]\n",
    "                if len(curr) < 2:\n",
    "                    curr.append(pred)\n",
    "                elif pred['score'] > min(curr[0]['score'], curr[1]['score']):\n",
    "                        if curr[0]['score'] < curr[1]['score']:\n",
    "                            curr[0] = pred\n",
    "                        else:\n",
    "                            curr[1] = pred\n",
    "    return max_score"
   ]
  },
  {
   "cell_type": "code",
   "execution_count": 7,
   "metadata": {},
   "outputs": [],
   "source": [
    "def get_max_pred_bbox_4cls(pred_file='mask_rcnn_test-dev_results.bbox.json'):\n",
    "    with open(pred_file) as f:\n",
    "        data = json.load(f)\n",
    "        max_score = {}\n",
    "        for pred in data:\n",
    "            key = (pred['image_id'], pred['category_id'])\n",
    "            if key not in max_score.keys():\n",
    "                max_score[key] = [pred]\n",
    "            if pred['score'] > max_score[key][0]['score']:\n",
    "                max_score[key] = [pred]\n",
    "    return max_score"
   ]
  },
  {
   "cell_type": "code",
   "execution_count": 8,
   "metadata": {},
   "outputs": [],
   "source": [
    "def get_no_pred_id(max_score, cls_id=3047):\n",
    "    pred_id = {}\n",
    "    for (image_id, cat_id) in max_score.keys():\n",
    "        if image_id not in pred_id.keys():\n",
    "            pred_id[image_id] = []\n",
    "        pred_id[image_id].append(cat_id)\n",
    "    ids = []\n",
    "    for key in pred_id.keys():\n",
    "        if cls_id not in pred_id[key]:\n",
    "            ids.append(key)\n",
    "    return ids\n"
   ]
  },
  {
   "cell_type": "code",
   "execution_count": 9,
   "metadata": {},
   "outputs": [],
   "source": [
    "# Return a map -> if no label in gt, then true; else false\n",
    "def get_no_gt_id(gt, cls_id=3047):\n",
    "    test_ids = [i['id'] for i in gt['images']]\n",
    "    gt_no_label = {}\n",
    "    for test_id in test_ids:\n",
    "        gt_no_label[test_id] = True\n",
    "        for ann in gt['annotations']:\n",
    "            if ann['image_id'] == test_id and ann['category_id'] == cls_id:\n",
    "                gt_no_label[test_id] = False\n",
    "                continue\n",
    "    return gt_no_label\n"
   ]
  },
  {
   "cell_type": "code",
   "execution_count": 10,
   "metadata": {},
   "outputs": [],
   "source": [
    "def get_f1(max_score, gt, cls_id=3047):\n",
    "    no_pred_ids = get_no_pred_id(max_score, cls_id=cls_id)\n",
    "    no_gt_ids = get_no_gt_id(gt, cls_id=cls_id)\n",
    "    tp, tn, fp, fn = 0, 0, 0, 0\n",
    "    for id in no_pred_ids:\n",
    "        if no_gt_ids[id] == True:\n",
    "            tn += 1\n",
    "        else:\n",
    "            fn += 1\n",
    "    actual_p = sum(val==False for val in no_gt_ids.values())\n",
    "    actual_n = len(no_gt_ids.keys()) - actual_p\n",
    "    tp = actual_p - fn\n",
    "    fp = actual_n - tn\n",
    "\n",
    "    precision = tp/(tp + fp)\n",
    "    recall = tp/(tp+fn)\n",
    "    f1 = 2*precision*recall/(precision+recall)\n",
    "    print(\"Precision: \", precision)\n",
    "    print(\"Recall: \", recall)\n",
    "    print(\"F1 score: \", f1)\n",
    "    mydata = [\n",
    "        [\"Tip\", tp, fp],\n",
    "        [\"No Tip\", fn, tn]\n",
    "    ]\n",
    "    \n",
    "    # create header\n",
    "    head = [\"\", \"Tip\", \"No Tip\"]\n",
    "    \n",
    "    # display table\n",
    "    print(tabulate(mydata, headers=head, tablefmt=\"grid\"))\n",
    "        "
   ]
  },
  {
   "cell_type": "code",
   "execution_count": 20,
   "metadata": {},
   "outputs": [],
   "source": [
    "def get_dis_report(gt_file, pred_file, cls4=False, cls_id=3047):\n",
    "    with open(gt_file) as f:\n",
    "        gt = json.load(f)\n",
    "        if cls4:\n",
    "            max_score = get_max_pred_bbox_4cls(pred_file)\n",
    "        else:\n",
    "            max_score = get_max_pred_bbox_3cls(pred_file)\n",
    "        get_f1(max_score, gt, cls_id=cls_id)\n",
    "\n",
    "        carina_dis = get_dis(gt, max_score, 3046)\n",
    "        tip_dis = get_dis(gt, max_score, 3047)\n",
    "\n",
    "        # Turn pixel distance to cm\n",
    "        carina_dis = [i*40/1280 for i in carina_dis]\n",
    "        tip_dis = [i*40/1280 for i in tip_dis]\n",
    "        get_dis_metrics(carina_dis=carina_dis, tip_dis=tip_dis)\n",
    "        plot_dis(carina_dis=carina_dis, tip_dis=tip_dis)\n",
    "        \n",
    "        if cls4:\n",
    "            left_cla_dis = get_dis(gt, max_score, 3048)\n",
    "            right_cla_dis = get_dis(gt, max_score, 3049)\n",
    "            get_dis_metrics(carina_dis=left_cla_dis, tip_dis=right_cla_dis)\n",
    "            plot_dis(carina_dis=left_cla_dis, tip_dis=right_cla_dis)\n",
    "    return gt, max_score\n",
    "        "
   ]
  },
  {
   "cell_type": "code",
   "execution_count": 21,
   "metadata": {},
   "outputs": [
    {
     "name": "stdout",
     "output_type": "stream",
     "text": [
      "Precision:  0.9290780141843972\n",
      "Recall:  0.8733333333333333\n",
      "F1 score:  0.9003436426116839\n",
      "+--------+-------+----------+\n",
      "|        |   Tip |   No Tip |\n",
      "+========+=======+==========+\n",
      "| Tip    |   131 |       10 |\n",
      "+--------+-------+----------+\n",
      "| No Tip |    19 |        6 |\n",
      "+--------+-------+----------+\n",
      "Max carina distance:  8.772425852846037\n",
      "Min carina distance:  0.06166850177905855\n",
      "Mean carina distance:  2.1015512047936924\n",
      "Std carina distance:  1.3271730598247002\n",
      "Median carina distance:  1.8026838856068956\n",
      "Max tip distance:  8.906067417799605\n",
      "Min tip distance:  0.0332045228421527\n",
      "Mean tip distance:  1.2212567469926692\n",
      "Std tip distance:  1.6904211110775924\n",
      "Median tip distance:  0.6526814879893101\n"
     ]
    },
    {
     "data": {
      "image/png": "[encoded data removed]",
      "text/plain": [
       "<Figure size 800x400 with 2 Axes>"
      ]
     },
     "metadata": {},
     "output_type": "display_data"
    }
   ],
   "source": [
    "gt, max_score = get_dis_report(gt_file='/home/ec2-user/segmenter/MAIDA/data1000/test_annotations.json', \n",
    "               pred_file='/home/ec2-user/segmenter/InternImage/detection/mask_rcnn_test-dev_results_3cls.bbox.json')"
   ]
  },
  {
   "cell_type": "code",
   "execution_count": 22,
   "metadata": {},
   "outputs": [
    {
     "name": "stdout",
     "output_type": "stream",
     "text": [
      "Precision:  0.9411764705882353\n",
      "Recall:  0.8533333333333334\n",
      "F1 score:  0.8951048951048952\n",
      "+--------+-------+----------+\n",
      "|        |   Tip |   No Tip |\n",
      "+========+=======+==========+\n",
      "| Tip    |   128 |        8 |\n",
      "+--------+-------+----------+\n",
      "| No Tip |    22 |        8 |\n",
      "+--------+-------+----------+\n",
      "Max carina distance:  8.789670434894099\n",
      "Min carina distance:  0.14446180731804636\n",
      "Mean carina distance:  2.444492874345645\n",
      "Std carina distance:  1.4444413786734351\n",
      "Median carina distance:  2.0917932672896073\n",
      "Max tip distance:  8.139406443478869\n",
      "Min tip distance:  0.052974075519260366\n",
      "Mean tip distance:  1.0778147363110993\n",
      "Std tip distance:  1.5307476931642985\n",
      "Median tip distance:  0.5849116105769515\n"
     ]
    },
    {
     "data": {
      "image/png": "[encoded data removed]",
      "text/plain": [
       "<Figure size 800x400 with 2 Axes>"
      ]
     },
     "metadata": {},
     "output_type": "display_data"
    }
   ],
   "source": [
    "gt, max_score = get_dis_report(gt_file='/home/ec2-user/segmenter/MAIDA/data1000/test_annotations_4cls.json', \n",
    "               pred_file='/home/ec2-user/segmenter/InternImage/detection/mask_rcnn_test-dev_results_4cls.bbox.json')"
   ]
  },
  {
   "cell_type": "code",
   "execution_count": null,
   "metadata": {},
   "outputs": [],
   "source": []
  }
 ],
 "metadata": {
  "kernelspec": {
   "display_name": "internimage",
   "language": "python",
   "name": "python3"
  },
  "language_info": {
   "codemirror_mode": {
    "name": "ipython",
    "version": 3
   },
   "file_extension": ".py",
   "mimetype": "text/x-python",
   "name": "python",
   "nbconvert_exporter": "python",
   "pygments_lexer": "ipython3",
   "version": "3.9.13"
  },
  "orig_nbformat": 4
 },
 "nbformat": 4,
 "nbformat_minor": 2
}
